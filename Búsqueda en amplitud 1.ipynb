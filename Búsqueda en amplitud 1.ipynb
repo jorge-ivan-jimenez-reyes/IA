{
 "cells": [
  {
   "cell_type": "code",
   "execution_count": 1,
   "id": "58b4e678-0fc8-4fb5-815b-1ee4f3ff6e4c",
   "metadata": {
    "scrolled": true
   },
   "outputs": [
    {
     "name": "stdout",
     "output_type": "stream",
     "text": [
      "Collecting networkx\n",
      "  Downloading networkx-3.2.1-py3-none-any.whl.metadata (5.2 kB)\n",
      "Requirement already satisfied: matplotlib in c:\\users\\jorge\\miniconda3\\envs\\actumlogos-cpu\\lib\\site-packages (3.8.4)\n",
      "Requirement already satisfied: contourpy>=1.0.1 in c:\\users\\jorge\\miniconda3\\envs\\actumlogos-cpu\\lib\\site-packages (from matplotlib) (1.2.0)\n",
      "Requirement already satisfied: cycler>=0.10 in c:\\users\\jorge\\miniconda3\\envs\\actumlogos-cpu\\lib\\site-packages (from matplotlib) (0.11.0)\n",
      "Requirement already satisfied: fonttools>=4.22.0 in c:\\users\\jorge\\miniconda3\\envs\\actumlogos-cpu\\lib\\site-packages (from matplotlib) (4.51.0)\n",
      "Requirement already satisfied: kiwisolver>=1.3.1 in c:\\users\\jorge\\miniconda3\\envs\\actumlogos-cpu\\lib\\site-packages (from matplotlib) (1.4.4)\n",
      "Requirement already satisfied: numpy>=1.21 in c:\\users\\jorge\\miniconda3\\envs\\actumlogos-cpu\\lib\\site-packages (from matplotlib) (1.26.4)\n",
      "Requirement already satisfied: packaging>=20.0 in c:\\users\\jorge\\miniconda3\\envs\\actumlogos-cpu\\lib\\site-packages (from matplotlib) (24.1)\n",
      "Requirement already satisfied: pillow>=8 in c:\\users\\jorge\\miniconda3\\envs\\actumlogos-cpu\\lib\\site-packages (from matplotlib) (10.4.0)\n",
      "Requirement already satisfied: pyparsing>=2.3.1 in c:\\users\\jorge\\miniconda3\\envs\\actumlogos-cpu\\lib\\site-packages (from matplotlib) (3.0.9)\n",
      "Requirement already satisfied: python-dateutil>=2.7 in c:\\users\\jorge\\miniconda3\\envs\\actumlogos-cpu\\lib\\site-packages (from matplotlib) (2.9.0.post0)\n",
      "Requirement already satisfied: importlib-resources>=3.2.0 in c:\\users\\jorge\\miniconda3\\envs\\actumlogos-cpu\\lib\\site-packages (from matplotlib) (6.4.0)\n",
      "Requirement already satisfied: zipp>=3.1.0 in c:\\users\\jorge\\miniconda3\\envs\\actumlogos-cpu\\lib\\site-packages (from importlib-resources>=3.2.0->matplotlib) (3.17.0)\n",
      "Requirement already satisfied: six>=1.5 in c:\\users\\jorge\\miniconda3\\envs\\actumlogos-cpu\\lib\\site-packages (from python-dateutil>=2.7->matplotlib) (1.16.0)\n",
      "Downloading networkx-3.2.1-py3-none-any.whl (1.6 MB)\n",
      "   ---------------------------------------- 0.0/1.6 MB ? eta -:--:--\n",
      "    --------------------------------------- 0.0/1.6 MB 1.4 MB/s eta 0:00:02\n",
      "   -- ------------------------------------- 0.1/1.6 MB 1.1 MB/s eta 0:00:02\n",
      "   --- ------------------------------------ 0.1/1.6 MB 983.0 kB/s eta 0:00:02\n",
      "   ----- ---------------------------------- 0.2/1.6 MB 1.5 MB/s eta 0:00:01\n",
      "   ---------- ----------------------------- 0.5/1.6 MB 2.2 MB/s eta 0:00:01\n",
      "   --------------- ------------------------ 0.6/1.6 MB 2.5 MB/s eta 0:00:01\n",
      "   ----------------------- ---------------- 1.0/1.6 MB 3.5 MB/s eta 0:00:01\n",
      "   ---------------------------------------  1.6/1.6 MB 5.0 MB/s eta 0:00:01\n",
      "   ---------------------------------------- 1.6/1.6 MB 4.8 MB/s eta 0:00:00\n",
      "Installing collected packages: networkx\n",
      "Successfully installed networkx-3.2.1\n"
     ]
    }
   ],
   "source": [
    "!pip install networkx matplotlib"
   ]
  },
  {
   "cell_type": "code",
   "execution_count": 11,
   "id": "d0507edc-38ce-4c7c-af99-89f5ab554105",
   "metadata": {},
   "outputs": [],
   "source": [
    "# Importamos las librerías para trabajar con BFS(Breadth-First Search)\n",
    "# Búsqueda en amplitud\n",
    "\n",
    "import networkx as nx\n",
    "import matplotlib.pyplot as plt\n",
    "from collections import deque"
   ]
  },
  {
   "cell_type": "code",
   "execution_count": 9,
   "id": "beb7ba63-171d-47bf-a137-2053103f386f",
   "metadata": {},
   "outputs": [],
   "source": [
    "# Definimos el grafo como un diccionario de listas de adyacencia\n",
    "grafo = {\n",
    "    'A': ['B', 'C'],\n",
    "    'B': ['A', 'D'],\n",
    "    'C': ['A'],\n",
    "    'D': ['B']\n",
    "}\n",
    "\n",
    "# Nodo de inicio y nodo objetivo\n",
    "nodo_inicio = 'A'\n",
    "nodo_objetivo = 'D'"
   ]
  },
  {
   "cell_type": "code",
   "execution_count": 4,
   "id": "0304f326-a58e-4984-a7ad-113d51d0e7e5",
   "metadata": {},
   "outputs": [],
   "source": [
    "# Definimos nuestro algoritmo de búsqueda:\n",
    "\n",
    "def busqueda_amplitud(grafo, inicio, objetivo):\n",
    "    # El método set crea un conjunto de datos SIMILAR a una lista pero que\n",
    "    # NO puede tener elementos duplicados\n",
    "    visitados = set()\n",
    "    # (Doubly Ended Queue) Es un tio de lista que permite agregar y eliminar\n",
    "    # elementos ya sea a la izquiera o a la derecha de la misma\n",
    "    cola = deque([(inicio, [inicio])])\n",
    "\n",
    "    i = 1\n",
    "    while cola:\n",
    "        # Aquí removemos el primer elemento del set (El de la izquierda)\n",
    "        # y este será nuestro nodo actual, el resto, el camino (Path restante)\n",
    "        nodo_actual, camino = cola.popleft()\n",
    "        print(\"\\nIteración:\", i)\n",
    "        print(\"Nodo actual:\", nodo_actual)\n",
    "        \n",
    "        if nodo_actual == objetivo:\n",
    "            print(\"Camino encontrado:\", \"->\".join(camino))\n",
    "            return camino\n",
    "        # Definimos nuestro algoritmo de búsqueda:\n",
    "\n",
    "def busqueda_amplitud(grafo, inicio, objetivo):\n",
    "    # El método set crea un conjunto de datos SIMILAR a una lista pero que\n",
    "    # NO puede tener elementos duplicados\n",
    "    visitados = set()\n",
    "    # (Doubly Ended Queue) Es un tio de lista que permite agregar y eliminar\n",
    "    # elementos ya sea a la izquiera o a la derecha de la misma\n",
    "    cola = deque([(inicio, [inicio])])\n",
    "\n",
    "    i = 1\n",
    "    while cola:\n",
    "        # Aquí removemos el primer elemento del set (El de la izquierda)\n",
    "        # y este será nuestro nodo actual, el resto, el camino (Path restante)\n",
    "        nodo_actual, camino = cola.popleft()\n",
    "        print(\"\\nIteración:\", i)\n",
    "        print(\"Nodo actual:\", nodo_actual)\n",
    "        \n",
    "        if nodo_actual == objetivo:\n",
    "            print(\"Camino encontrado:\", \"->\".join(camino))\n",
    "            return camino\n",
    "        \n",
    "        if nodo_actual not in visitados:\n",
    "            visitados.add(nodo_actual)\n",
    "            print(\"Nodos visitados\", visitados)\n",
    "            for vecino in grafo[nodo_actual]:\n",
    "                if vecino not in visitados:\n",
    "                    nueva_ruta = camino + [vecino]\n",
    "                    print(\"Nueva ruta:\", nueva_ruta)\n",
    "                    cola.append((vecino, nueva_ruta))\n",
    "        i += 1\n",
    "    print(\"No se encontró un camino al nodo objetivo.\")\n",
    "    return None# Definimos nuestro algoritmo de búsqueda:\n",
    "\n",
    "def busqueda_amplitud(grafo, inicio, objetivo):\n",
    "    # El método set crea un conjunto de datos SIMILAR a una lista pero que\n",
    "    # NO puede tener elementos duplicados\n",
    "    visitados = set()\n",
    "    # (Doubly Ended Queue) Es un tio de lista que permite agregar y eliminar\n",
    "    # elementos ya sea a la izquiera o a la derecha de la misma\n",
    "    cola = deque([(inicio, [inicio])])\n",
    "\n",
    "    i = 1\n",
    "    while cola:\n",
    "        # Aquí removemos el primer elemento del set (El de la izquierda)\n",
    "        # y este será nuestro nodo actual, el resto, el camino (Path restante)\n",
    "        nodo_actual, camino = cola.popleft()\n",
    "        print(\"\\nIteración:\", i)\n",
    "        print(\"Nodo actual:\", nodo_actual)\n",
    "        \n",
    "        if nodo_actual == objetivo:\n",
    "            print(\"Camino encontrado:\", \"->\".join(camino))\n",
    "            return camino\n",
    "        \n",
    "        if nodo_actual not in visitados:\n",
    "            visitados.add(nodo_actual)\n",
    "            print(\"Nodos visitados\", visitados)\n",
    "            for vecino in grafo[nodo_actual]:\n",
    "                if vecino not in visitados:\n",
    "                    nueva_ruta = camino + [vecino]\n",
    "                    print(\"Nueva ruta:\", nueva_ruta)\n",
    "                    cola.append((vecino, nueva_ruta))\n",
    "        i += 1\n",
    "    print(\"No se encontró un camino al nodo objetivo.\")\n",
    "    return None\n",
    "        if nodo_actual not in visitados:\n",
    "            visitados.add(nodo_actual)\n",
    "            print(\"Nodos visitados\", visitados)\n",
    "            for vecino in grafo[nodo_actual]:\n",
    "                if vecino not in visitados:\n",
    "                    nueva_ruta = camino + [vecino]\n",
    "                    print(\"Nueva ruta:\", nueva_ruta)\n",
    "                    cola.append((vecino, nueva_ruta))\n",
    "        i += 1\n",
    "    print(\"No se encontró un camino al nodo objetivo.\")\n",
    "    return None"
   ]
  },
  {
   "cell_type": "code",
   "execution_count": 5,
   "id": "74db7a86-1c78-4736-8b38-61878a114860",
   "metadata": {
    "scrolled": true
   },
   "outputs": [
    {
     "name": "stdout",
     "output_type": "stream",
     "text": [
      "\n",
      "Iteración: 1\n",
      "Nodo actual: A\n",
      "Nodos visitados {'A'}\n",
      "Nueva ruta: ['A', 'B']\n",
      "Nueva ruta: ['A', 'C']\n",
      "\n",
      "Iteración: 2\n",
      "Nodo actual: B\n",
      "Nodos visitados {'A', 'B'}\n",
      "Nueva ruta: ['A', 'B', 'D']\n",
      "\n",
      "Iteración: 3\n",
      "Nodo actual: C\n",
      "Nodos visitados {'C', 'A', 'B'}\n",
      "\n",
      "Iteración: 4\n",
      "Nodo actual: D\n",
      "Camino encontrado: A->B->D\n"
     ]
    }
   ],
   "source": [
    "# Realizamos la búsqueda en amplitud\n",
    "camino = busqueda_amplitud(grafo, nodo_inicio, nodo_objetivo)"
   ]
  },
  {
   "cell_type": "code",
   "execution_count": 6,
   "id": "79532fff-0703-4d69-9ef7-c940989d738d",
   "metadata": {},
   "outputs": [
    {
     "data": {
      "image/png": "[encoded data removed]",
      "text/plain": [
       "<Figure size 640x480 with 1 Axes>"
      ]
     },
     "metadata": {},
     "output_type": "display_data"
    }
   ],
   "source": [
    "# Creamos el gráfico\n",
    "G = nx.Graph(grafo)\n",
    "\n",
    "# Coloreamos los nodos según si están en el camino o no\n",
    "colores = ['cyan' if nodo in camino else 'red' for nodo in G.nodes()]\n",
    "\n",
    "# Dibujamos el grafo\n",
    "pos = nx.spring_layout(G)\n",
    "nx.draw(G, pos, with_labels=True, node_color=colores, node_size=1000)\n",
    "plt.title(\"Búsqueda en Amplitud\")\n",
    "plt.show()"
   ]
  },
  {
   "cell_type": "code",
   "execution_count": 15,
   "id": "740ca285-49cb-4b9a-a36e-7d9b39cd9013",
   "metadata": {},
   "outputs": [
    {
     "name": "stdout",
     "output_type": "stream",
     "text": [
      "La vocal a aparece 1 veces\n",
      "La vocal e aparece 5 veces\n",
      "La vocal i aparece 0 veces\n",
      "La vocal o aparece 2 veces\n",
      "La vocal u aparece 2 veces\n"
     ]
    }
   ],
   "source": [
    "#Programa que pida al usuario una palabra y muestre por pantalla el número de veces que contiene cada vocal.\n",
    "\n",
    "palabra = input(\"Introduce una palabra: \")\n",
    "vocales = ['a', 'e', 'i', 'o', 'u']\n",
    "\n",
    "for vocal in vocales:\n",
    "    contador = 0\n",
    "    for letra in palabra:\n",
    "        if letra == vocal:\n",
    "            contador += 1\n",
    "    print(\"La vocal\", vocal, \"aparece\", contador, \"veces\")"
   ]
  }
 ],
 "metadata": {
  "kernelspec": {
   "display_name": "Python 3 (ipykernel)",
   "language": "python",
   "name": "python3"
  },
  "language_info": {
   "codemirror_mode": {
    "name": "ipython",
    "version": 3
   },
   "file_extension": ".py",
   "mimetype": "text/x-python",
   "name": "python",
   "nbconvert_exporter": "python",
   "pygments_lexer": "ipython3",
   "version": "3.9.18"
  }
 },
 "nbformat": 4,
 "nbformat_minor": 5
}

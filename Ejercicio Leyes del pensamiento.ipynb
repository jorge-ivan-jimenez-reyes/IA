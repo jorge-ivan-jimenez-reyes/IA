{
 "cells": [
  {
   "cell_type": "markdown",
   "id": "ed6ff8bb-834f-42f8-9cc0-8c46091096f7",
   "metadata": {},
   "source": [
    "## Ejercicio 1: Ley de la Identidad"
   ]
  },
  {
   "cell_type": "code",
   "execution_count": null,
   "id": "083b4a85",
   "metadata": {},
   "outputs": [],
   "source": []
  },
  {
   "cell_type": "markdown",
   "id": "c17e9102-a1e3-44cc-b548-7f427ebab66a",
   "metadata": {},
   "source": [
    "1.- Dada una lista de elementos (pueden ser números o cadenas de texto), escribe una función que cuente cuántas veces aparece cada elemento en la lista.\n",
    "\n",
    "2.- La función debe devolver un diccionario donde las claves sean los elementos de la lista y los valores sean el número de veces que aparecen en la lista.\n",
    "\n",
    "3.- No se permite el uso de librerías externas, solo estructuras de datos nativas de Python."
   ]
  },
  {
   "cell_type": "code",
   "execution_count": 6,
   "id": "4d6441ef-1967-4129-889f-dd6005c8639e",
   "metadata": {},
   "outputs": [
    {
     "name": "stdout",
     "output_type": "stream",
     "text": [
      "{'a': 3, 'b': 2, 'c': 1}\n"
     ]
    }
   ],
   "source": [
    "# Escribe tu código aquí:\n",
    "######\n",
    "\n",
    "# Ejemplo de uso\n",
    "lista = [\"a\", \"b\", \"a\", \"c\", \"b\", \"a\"]\n",
    "def contar_repeticiones(lista):\n",
    "    repeticiones = {}\n",
    "\n",
    "    for elemento in lista:\n",
    "        repeticiones[elemento] = repeticiones.get(elemento, 0) + 1\n",
    "\n",
    "    print(repeticiones)\n",
    "\n",
    "contar_repeticiones(lista)\n",
    "\n",
    "\n",
    "# Salida esperada\n",
    "# {'a': 3, 'b': 2, 'c': 1}"
   ]
  },
  {
   "cell_type": "markdown",
   "id": "d0868ce8-1b61-4d61-975c-5e4408c8dc04",
   "metadata": {},
   "source": [
    "## Ejercicio 2: Ley de la No Contradicción"
   ]
  },
  {
   "cell_type": "markdown",
   "id": "969e2fdb-1aae-473b-bb47-ad7712879e78",
   "metadata": {},
   "source": [
    "1.- Dada una lista de diccionarios donde cada diccionario representa una proposición con una clave y un valor booleano (True o False), escribe una función que verifique si existe alguna contradicción.\n",
    "\n",
    "2.- Una contradicción ocurre si una misma clave tiene valores True y False en diferentes diccionarios.\n",
    "\n",
    "3.- La función debe devolver True si hay una contradicción y False si no la hay."
   ]
  },
  {
   "cell_type": "code",
   "execution_count": 11,
   "id": "10120e8f-fdbb-46af-9cb0-255221d74129",
   "metadata": {},
   "outputs": [
    {
     "name": "stdout",
     "output_type": "stream",
     "text": [
      "True\n"
     ]
    }
   ],
   "source": [
    "# Escribe tu código aquí:\n",
    "######\n",
    "\n",
    "\n",
    "# Ejemplo de uso\n",
    "proposiciones = [\n",
    "    {\"A\": True},\n",
    "    {\"B\": False},\n",
    "    {\"A\": False},\n",
    "    {\"C\": True}\n",
    "]\n",
    "\n",
    "def verificar_no_contradiccion(proposiciones):\n",
    "    for i in range(len(proposiciones)):\n",
    "        for j in range(i + 1, len(proposiciones)):\n",
    "            if proposiciones[i] == proposiciones[j]:\n",
    "                return False\n",
    "    return True\n",
    "\n",
    "resultado = verificar_no_contradiccion(proposiciones)\n",
    "print(resultado)\n",
    "\n",
    "# Salida esperada\n",
    "# True"
   ]
  },
  {
   "cell_type": "markdown",
   "id": "c48851c0-209f-4360-a035-30849bef05b8",
   "metadata": {},
   "source": [
    "## Ejercicio 3: Ley del Tercio Excluido"
   ]
  },
  {
   "cell_type": "markdown",
   "id": "664bb5c5-874c-4dad-9bd2-27a63e728873",
   "metadata": {},
   "source": [
    "1.- Dada una lista que contiene valores booleanos (True o False) y otros posibles valores, escribe una función que identifique y devuelva los valores que no son estrictamente True o False.\n",
    "\n",
    "2.- La función debe devolver una lista con los valores que no cumplen la ley del tercio excluido.\n",
    "3.- No se permite el uso de librerías externas, solo estructuras de datos nativas de Python."
   ]
  },
  {
   "cell_type": "code",
   "execution_count": 24,
   "id": "5a76fc3c-281a-400a-965d-ba8db4d90b65",
   "metadata": {},
   "outputs": [
    {
     "name": "stdout",
     "output_type": "stream",
     "text": [
      "['True', None]\n"
     ]
    }
   ],
   "source": [
    "# Escribe tu código aquí:\n",
    "######\n",
    "\n",
    "\n",
    "# Ejemplo de uso+\n",
    "\n",
    "lista = [True, False, 0, 1, \"True\", None, True]\n",
    "\n",
    "#valores excluidos son los valores que no son True o False    \n",
    "#iteracion de la lista para identificar los valores excluidos\n",
    "\n",
    "def obtener_valores_excluidos(lista):\n",
    "    valores_excluidos = []\n",
    "    for valor in lista:\n",
    "        if valor != True and valor != False:\n",
    "            valores_excluidos.append(valor)\n",
    "    return valores_excluidos\n",
    "\n",
    "resultado = obtener_valores_excluidos(lista)\n",
    "print(resultado)\n",
    "\n",
    "\n",
    "\n",
    "\n",
    "# Salida esperada\n",
    "# [0, 1, 'True', None]"
   ]
  }
 ],
 "metadata": {
  "kernelspec": {
   "display_name": "Python 3 (ipykernel)",
   "language": "python",
   "name": "python3"
  },
  "language_info": {
   "codemirror_mode": {
    "name": "ipython",
    "version": 3
   },
   "file_extension": ".py",
   "mimetype": "text/x-python",
   "name": "python",
   "nbconvert_exporter": "python",
   "pygments_lexer": "ipython3",
   "version": "3.9.18"
  }
 },
 "nbformat": 4,
 "nbformat_minor": 5
}

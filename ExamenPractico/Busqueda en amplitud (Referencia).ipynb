{
 "cells": [
  {
   "cell_type": "code",
   "execution_count": 34,
   "id": "d0507edc-38ce-4c7c-af99-89f5ab554105",
   "metadata": {},
   "outputs": [],
   "source": [
    "# Importamos las librerías para trabajar con BFS(Breadth-First Search)\n",
    "# Búsqueda en amplitud\n",
    "\n",
    "import networkx as nx\n",
    "import matplotlib.pyplot as plt\n",
    "from collections import deque"
   ]
  },
  {
   "cell_type": "code",
   "execution_count": 51,
   "id": "beb7ba63-171d-47bf-a137-2053103f386f",
   "metadata": {},
   "outputs": [],
   "source": [
    "# Definimos el grafo como un diccionario de listas de adyacencia\n",
    "grafo = {\n",
    "    'A': ['B', 'C', 'D'],\n",
    "    'B': ['A', 'E'],\n",
    "    'C': ['A', 'E'],\n",
    "    'D': ['A', 'F'],\n",
    "    'E': ['B', 'C'],\n",
    "    'F': ['D']\n",
    "}\n",
    "\n",
    "# Nodo de inicio y nodo objetivo\n",
    "nodo_inicio = 'A'\n",
    "nodo_objetivo = 'E'"
   ]
  },
  {
   "cell_type": "code",
   "execution_count": 52,
   "id": "0304f326-a58e-4984-a7ad-113d51d0e7e5",
   "metadata": {},
   "outputs": [],
   "source": [
    "# Definimos nuestro algoritmo de búsqueda:\n",
    "\n",
    "def busqueda_amplitud(grafo, inicio, objetivo):\n",
    "    # El método set crea un conjunto de datos SIMILAR a una lista pero que\n",
    "    # NO puede tener elementos duplicados\n",
    "    visitados = set()\n",
    "    # (Doubly Ended Queue) Es un tio de lista que permite agregar y eliminar\n",
    "    # elementos ya sea a la izquiera o a la derecha de la misma\n",
    "    cola = deque([(inicio, [inicio])])\n",
    "\n",
    "    caminos = []\n",
    "\n",
    "    i = 1\n",
    "    while cola:\n",
    "        # Aquí removemos el primer elemento del set (El de la izquierda)\n",
    "        # y este será nuestro nodo actual, el resto, el camino (Path restante)\n",
    "        nodo_actual, camino = cola.popleft()\n",
    "        print(\"\\nIteración:\", i)\n",
    "        print(\"Nodo actual:\", nodo_actual)\n",
    "        \n",
    "        if nodo_actual == objetivo:\n",
    "            caminos.append(camino)\n",
    "        \n",
    "        if nodo_actual not in visitados:\n",
    "            visitados.add(nodo_actual)\n",
    "            print(\"Nodos visitados\", visitados)\n",
    "            for vecino in grafo[nodo_actual]:\n",
    "                if vecino not in visitados:\n",
    "                    nueva_ruta = camino + [vecino]\n",
    "                    print(\"Nueva ruta:\", nueva_ruta)\n",
    "                    cola.append((vecino, nueva_ruta))\n",
    "        i += 1\n",
    "    return caminos"
   ]
  },
  {
   "cell_type": "code",
   "execution_count": 53,
   "id": "74db7a86-1c78-4736-8b38-61878a114860",
   "metadata": {},
   "outputs": [
    {
     "name": "stdout",
     "output_type": "stream",
     "text": [
      "\n",
      "Iteración: 1\n",
      "Nodo actual: A\n",
      "Nodos visitados {'A'}\n",
      "Nueva ruta: ['A', 'B']\n",
      "Nueva ruta: ['A', 'C']\n",
      "Nueva ruta: ['A', 'D']\n",
      "\n",
      "Iteración: 2\n",
      "Nodo actual: B\n",
      "Nodos visitados {'A', 'B'}\n",
      "Nueva ruta: ['A', 'B', 'E']\n",
      "\n",
      "Iteración: 3\n",
      "Nodo actual: C\n",
      "Nodos visitados {'A', 'B', 'C'}\n",
      "Nueva ruta: ['A', 'C', 'E']\n",
      "\n",
      "Iteración: 4\n",
      "Nodo actual: D\n",
      "Nodos visitados {'A', 'D', 'B', 'C'}\n",
      "Nueva ruta: ['A', 'D', 'F']\n",
      "\n",
      "Iteración: 5\n",
      "Nodo actual: E\n",
      "Nodos visitados {'A', 'E', 'B', 'C', 'D'}\n",
      "\n",
      "Iteración: 6\n",
      "Nodo actual: E\n",
      "\n",
      "Iteración: 7\n",
      "Nodo actual: F\n",
      "Nodos visitados {'A', 'E', 'B', 'F', 'C', 'D'}\n"
     ]
    }
   ],
   "source": [
    "# Realizamos la búsqueda en amplitud\n",
    "caminos = busqueda_amplitud(grafo, nodo_inicio, nodo_objetivo)"
   ]
  },
  {
   "cell_type": "code",
   "execution_count": 54,
   "id": "3b75535c-eb8b-4e6c-b235-1bd423de8fa6",
   "metadata": {},
   "outputs": [
    {
     "name": "stdout",
     "output_type": "stream",
     "text": [
      "Camino 1: A -> B -> E\n",
      "Camino 2: A -> C -> E\n"
     ]
    }
   ],
   "source": [
    "# Imprimimos los caminos encontrados\n",
    "for i, camino in enumerate(caminos):\n",
    "    print(f\"Camino {i+1}: {' -> '.join(camino)}\")"
   ]
  },
  {
   "cell_type": "code",
   "execution_count": 55,
   "id": "79532fff-0703-4d69-9ef7-c940989d738d",
   "metadata": {},
   "outputs": [
    {
     "data": {
      "image/png": "[encoded data removed]",
      "text/plain": [
       "<Figure size 640x480 with 1 Axes>"
      ]
     },
     "metadata": {},
     "output_type": "display_data"
    }
   ],
   "source": [
    "# Creamos el gráfico\n",
    "G = nx.Graph(grafo)\n",
    "\n",
    "# Coloreamos los nodos según si están en algún camino o no\n",
    "colores = []\n",
    "for nodo in G.nodes():\n",
    "    en_camino = False\n",
    "    for camino in caminos:\n",
    "        if nodo in camino:\n",
    "            en_camino = True\n",
    "            break\n",
    "    if en_camino:\n",
    "        colores.append('green')\n",
    "    else:\n",
    "        colores.append('red')\n",
    "\n",
    "# Dibujamos el grafo\n",
    "pos = nx.spring_layout(G)\n",
    "nx.draw(G, pos, with_labels=True, node_color=colores, node_size=1000)\n",
    "plt.title(\"Búsqueda en Amplitud\")\n",
    "plt.show()"
   ]
  },
  {
   "cell_type": "code",
   "execution_count": null,
   "id": "740ca285-49cb-4b9a-a36e-7d9b39cd9013",
   "metadata": {},
   "outputs": [],
   "source": []
  }
 ],
 "metadata": {
  "kernelspec": {
   "display_name": "Python 3 (ipykernel)",
   "language": "python",
   "name": "python3"
  },
  "language_info": {
   "codemirror_mode": {
    "name": "ipython",
    "version": 3
   },
   "file_extension": ".py",
   "mimetype": "text/x-python",
   "name": "python",
   "nbconvert_exporter": "python",
   "pygments_lexer": "ipython3",
   "version": "3.10.13"
  }
 },
 "nbformat": 4,
 "nbformat_minor": 5
}

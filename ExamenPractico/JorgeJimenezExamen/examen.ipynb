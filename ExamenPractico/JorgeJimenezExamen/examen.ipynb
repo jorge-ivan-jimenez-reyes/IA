{
 "cells": [
  {
   "cell_type": "code",
   "execution_count": null,
   "metadata": {},
   "outputs": [],
   "source": []
  },
  {
   "cell_type": "markdown",
   "metadata": {},
   "source": [
    "# 🛫 Buscador de Rutas de Vuelo\n",
    "\n",
    "¡Bienvenido! En este notebook, vamos a crear un programa que te permitirá buscar rutas de vuelo entre ciudades, considerando vuelos directos e indirectos.\n",
    "\n",
    "## Funcionalidades:\n",
    "\n",
    "1. **Buscar rutas entre ciudades**:\n",
    "   - Ingresar ciudad de origen y destino.\n",
    "   - Mostrar todas las rutas disponibles con vuelos directos e indirectos.\n",
    "\n",
    "2. **Encontrar la ruta más rápida**:\n",
    "   - Basada en el menor tiempo de vuelo total, incluyendo las conexiones.\n",
    "\n",
    "3. **Encontrar la ruta más barata**:\n",
    "   - Basada en el costo total del viaje, considerando posibles vuelos indirectos.\n",
    "\n",
    "4. **Restricciones de tiempo entre conexiones**:\n",
    "   - Configurar el tiempo mínimo de espera para las conexiones entre vuelos.\n",
    "\n",
    "## Tecnologías a utilizar:\n",
    "- Python\n",
    "- Estructuras de datos como listas, diccionarios y grafos\n",
    "- Algoritmos de búsqueda y optimización\n",
    "\n",
    "¡Empecemos a buscar la mejor ruta para tu próximo viaje!"
   ]
  },
  {
   "cell_type": "markdown",
   "metadata": {},
   "source": [
    "# 📚 Importar Librerías\n",
    "\n",
    "Primero, importamos las librerías necesarias para manejar datos, crear grafos, visualizar gráficos y realizar búsquedas.\n"
   ]
  },
  {
   "cell_type": "code",
   "execution_count": 1,
   "metadata": {},
   "outputs": [
    {
     "ename": "ModuleNotFoundError",
     "evalue": "No module named 'networkx'",
     "output_type": "error",
     "traceback": [
      "\u001b[1;31m---------------------------------------------------------------------------\u001b[0m",
      "\u001b[1;31mModuleNotFoundError\u001b[0m                       Traceback (most recent call last)",
      "Cell \u001b[1;32mIn[1], line 2\u001b[0m\n\u001b[0;32m      1\u001b[0m \u001b[38;5;28;01mimport\u001b[39;00m \u001b[38;5;21;01mpandas\u001b[39;00m \u001b[38;5;28;01mas\u001b[39;00m \u001b[38;5;21;01mpd\u001b[39;00m\n\u001b[1;32m----> 2\u001b[0m \u001b[38;5;28;01mimport\u001b[39;00m \u001b[38;5;21;01mnetworkx\u001b[39;00m \u001b[38;5;28;01mas\u001b[39;00m \u001b[38;5;21;01mnx\u001b[39;00m\n\u001b[0;32m      3\u001b[0m \u001b[38;5;28;01mimport\u001b[39;00m \u001b[38;5;21;01mmatplotlib\u001b[39;00m\u001b[38;5;21;01m.\u001b[39;00m\u001b[38;5;21;01mpyplot\u001b[39;00m \u001b[38;5;28;01mas\u001b[39;00m \u001b[38;5;21;01mplt\u001b[39;00m\n\u001b[0;32m      4\u001b[0m \u001b[38;5;28;01mfrom\u001b[39;00m \u001b[38;5;21;01mcollections\u001b[39;00m \u001b[38;5;28;01mimport\u001b[39;00m deque\n",
      "\u001b[1;31mModuleNotFoundError\u001b[0m: No module named 'networkx'"
     ]
    }
   ],
   "source": [
    "import pandas as pd\n",
    "import networkx as nx\n",
    "import matplotlib.pyplot as plt\n",
    "from collections import deque\n",
    "import heapq\n",
    "import numpy as np\n"
   ]
  },
  {
   "cell_type": "markdown",
   "metadata": {},
   "source": [
    "# 2. Lectura del Archivo CSV 🗂️\n",
    "\n",
    "📄 En esta parte, leemos el archivo CSV que contiene toda la información de los vuelos ✈️. Mostramos un resumen de los datos cargados para tener una idea de las opciones disponibles. ¡Comenzamos a planear el viaje! 🌍\n"
   ]
  },
  {
   "cell_type": "code",
   "execution_count": null,
   "metadata": {},
   "outputs": [],
   "source": [
    "def cargar_datos(archivo):\n",
    "    datos = pd.read_csv(archivo)\n",
    "    datos['Fecha_Salida'] = pd.to_datetime(datos['Fecha_Salida'] + ' ' + datos['Hora_Salida_Origen'])\n",
    "    datos['Fecha_Llegada'] = pd.to_datetime(datos['Fecha_Llegada'] + ' ' + datos['Hora_Llegada_Destino'])\n",
    "    datos['Duracion'] = datos['Fecha_Llegada'] - datos['Fecha_Salida']\n",
    "    print(\"Datos de vuelos:\")\n",
    "    print(datos)\n",
    "    return datos\n",
    "\n",
    "# Cargar el archivo CSV\n",
    "archivo = 'vuelosexamen.csv'  # Asegúrate de tener este archivo en tu directorio\n",
    "datos = cargar_datos(archivo)"
   ]
  },
  {
   "cell_type": "markdown",
   "metadata": {},
   "source": [
    "# 3. Creación del Grafo de Vuelos 🌐\n",
    "\n",
    "🛫 En esta sección, generamos el **grafo dirigido** con las rutas de vuelos conectando las ciudades. Cada vuelo representa una conexión entre ciudades, formando un gran mapa de posibilidades 🌍✨.\n"
   ]
  },
  {
   "cell_type": "code",
   "execution_count": 280,
   "metadata": {},
   "outputs": [],
   "source": [
    "def construir_grafo(datos):\n",
    "    grafo = nx.MultiDiGraph()\n",
    "    for idx, fila in datos.iterrows():\n",
    "        origen = fila['Origen']\n",
    "        destino = fila['Destino']\n",
    "        tiempo = fila['Duracion'].total_seconds() / 3600\n",
    "        costo = fila['Precio_Vuelo']\n",
    "        fecha_salida = fila['Fecha_Salida']\n",
    "        fecha_llegada = fila['Fecha_Llegada']\n",
    "        grafo.add_edge(origen, destino, tiempo=tiempo, costo=costo, fecha_salida=fecha_salida, fecha_llegada=fecha_llegada)\n",
    "    return grafo\n",
    "\n",
    "grafo = construir_grafo(datos)"
   ]
  },
  {
   "cell_type": "markdown",
   "metadata": {},
   "source": [
    "# ✈️ Visualización del Grafo de Vuelos\n",
    "\n",
    "En este apartado, visualizaremos un grafo que representa las rutas de vuelo disponibles. Cada arista del grafo tiene un peso que puede representar el **tiempo** o el **costo** del vuelo entre dos ciudades. Además, el grosor y color de las aristas varían según el peso.\n",
    "\n",
    "## 🚀 Función: `visualizar_grafo_mejorado`\n",
    "\n",
    "Esta función crea una visualización del grafo con el peso de las aristas (tiempo o costo) y añade una barra de colores para interpretar los valores. Los colores más oscuros representan los valores más bajos.\n",
    "\n",
    "### Código:\n"
   ]
  },
  {
   "cell_type": "code",
   "execution_count": null,
   "metadata": {},
   "outputs": [],
   "source": [
    "def visualizar_grafo_mejorado(grafo, peso='tiempo'):\n",
    "    posiciones = nx.spring_layout(grafo)\n",
    "    fig, ax = plt.subplots(figsize=(12, 10))\n",
    "    \n",
    "    # Dibujar los nodos\n",
    "    nx.draw_networkx_nodes(grafo, posiciones, node_color='lightblue', node_size=2000, ax=ax)\n",
    "    nx.draw_networkx_labels(grafo, posiciones, font_size=12, font_weight='bold', ax=ax)\n",
    "    \n",
    "    # Recopilar los pesos de las aristas para normalizar\n",
    "    valores_peso = [data[peso] for u, v, key, data in grafo.edges(keys=True, data=True)]\n",
    "    min_peso, max_peso = min(valores_peso), max(valores_peso)\n",
    "    \n",
    "    norm_pesos = [(p - min_peso) / (max_peso - min_peso) if max_peso - min_peso != 0 else 0.5 for p in valores_peso]\n",
    "    \n",
    "    # Dibujar las aristas\n",
    "    for idx, (u, v, key, data) in enumerate(grafo.edges(keys=True, data=True)):\n",
    "        color = plt.cm.viridis(norm_pesos[idx])\n",
    "        width = 2 + 5 * norm_pesos[idx]\n",
    "        nx.draw_networkx_edges(grafo, posiciones, edgelist=[(u, v)], width=width, edge_color=[color], connectionstyle=f'arc3,rad={0.1 * key}', ax=ax, arrows=True)\n",
    "    \n",
    "    # Añadir barra de color\n",
    "    sm = plt.cm.ScalarMappable(cmap=plt.cm.viridis, norm=plt.Normalize(vmin=min_peso, vmax=max_peso))\n",
    "    sm.set_array([])\n",
    "    fig.colorbar(sm, ax=ax, label=f'{peso.capitalize()} del vuelo')\n",
    "    plt.title(f\"Grafo de vuelos con peso en {peso} (color más oscuro = menor {peso})\")\n",
    "    plt.show()\n",
    "\n",
    "# Visualizar el grafo con peso en tiempo y en costo\n",
    "visualizar_grafo_mejorado(grafo, peso='tiempo')\n",
    "visualizar_grafo_mejorado(grafo, peso='costo')\n"
   ]
  },
  {
   "cell_type": "markdown",
   "metadata": {},
   "source": [
    "# 🗺️ Construir Diccionario de Vuelos\n",
    "Construimos un diccionario que agrupa los vuelos por su ciudad de origen, para facilitar la búsqueda de conexiones."
   ]
  },
  {
   "cell_type": "code",
   "execution_count": 282,
   "metadata": {},
   "outputs": [],
   "source": [
    "def construir_diccionario_vuelos(datos):\n",
    "    vuelos_por_origen = {}\n",
    "    for idx, fila in datos.iterrows():\n",
    "        origen = fila['Origen']\n",
    "        if origen not in vuelos_por_origen:\n",
    "            vuelos_por_origen[origen] = []\n",
    "        vuelo_info = {\n",
    "            'Origen': origen,\n",
    "            'Destino': fila['Destino'],\n",
    "            'Fecha_Salida': fila['Fecha_Salida'],\n",
    "            'Fecha_Llegada': fila['Fecha_Llegada'],\n",
    "            'Precio_Vuelo': fila['Precio_Vuelo'],\n",
    "            'Duracion': fila['Duracion']\n",
    "        }\n",
    "        vuelos_por_origen[origen].append(vuelo_info)\n",
    "    return vuelos_por_origen\n",
    "\n",
    "vuelos_por_origen = construir_diccionario_vuelos(datos)"
   ]
  },
  {
   "cell_type": "markdown",
   "metadata": {},
   "source": [
    "# 🚀 Función: Ruta más rápida\n",
    "\n",
    "La función `ruta_mas_rapida` encuentra la ruta de vuelo más rápida entre dos ciudades, usando un algoritmo basado en una cola de prioridad (heap). Se busca minimizar el tiempo total de viaje considerando las escalas y las horas de vuelo.\n",
    "\n",
    "## 📌 Descripción:\n",
    "\n",
    "1. **Cola de Prioridad**: Se utiliza una estructura de tipo heap (cola de prioridad) para almacenar las rutas, priorizando aquellas con menor tiempo total.\n",
    "2. **Visitados**: Un conjunto para asegurarse de que no se visiten los mismos aeropuertos en las mismas condiciones varias veces.\n",
    "3. **Recorrido**: Se recorren los vuelos posibles desde la ciudad de origen hasta el destino final, sumando los tiempos de vuelo y respetando las restricciones de espera entre conexiones (al menos una hora).\n",
    "4. **Salida**: Al encontrar la ruta más rápida, se imprime la secuencia de vuelos y el tiempo total del viaje.\n"
   ]
  },
  {
   "cell_type": "code",
   "execution_count": 283,
   "metadata": {},
   "outputs": [],
   "source": [
    "def ruta_mas_rapida(inicio, destino):\n",
    "    cola = []\n",
    "    visitados = set()\n",
    "    for vuelo in vuelos_por_origen.get(inicio, []):\n",
    "        duracion_total = vuelo['Duracion'].total_seconds() / 3600\n",
    "        ruta = [vuelo]\n",
    "        heapq.heappush(cola, (duracion_total, vuelo['Fecha_Llegada'], ruta))\n",
    "    \n",
    "    while cola:\n",
    "        duracion_actual, llegada_actual, ruta_actual = heapq.heappop(cola)\n",
    "        ultimo_vuelo = ruta_actual[-1]\n",
    "        aeropuerto_actual = ultimo_vuelo['Destino']\n",
    "        \n",
    "        if aeropuerto_actual == destino:\n",
    "            print(f\"🛬 Ruta más rápida de {inicio} a {destino}:\")\n",
    "            for vuelo in ruta_actual:\n",
    "                print(f\"- Vuelo de {vuelo['Origen']} a {vuelo['Destino']} ({vuelo['Duracion']})\")\n",
    "            print(f\"⏳ Tiempo total: {duracion_actual:.2f} horas.\")\n",
    "            return\n",
    "        \n",
    "        if (aeropuerto_actual, llegada_actual) not in visitados:\n",
    "            visitados.add((aeropuerto_actual, llegada_actual))\n",
    "            for vuelo in vuelos_por_origen.get(aeropuerto_actual, []):\n",
    "                if vuelo['Fecha_Salida'] >= llegada_actual + pd.Timedelta(hours=1):\n",
    "                    nueva_duracion = duracion_actual + vuelo['Duracion'].total_seconds() / 3600\n",
    "                    nueva_ruta = ruta_actual + [vuelo]\n",
    "                    heapq.heappush(cola, (nueva_duracion, vuelo['Fecha_Llegada'], nueva_ruta))\n",
    "    \n",
    "    print(f\"❌ No se encontró una ruta de {inicio} a {destino}.\")"
   ]
  },
  {
   "cell_type": "markdown",
   "metadata": {},
   "source": [
    "# 💰 Función: Ruta más barata\n",
    "\n",
    "La función `ruta_mas_barata` encuentra la ruta de vuelo más económica entre dos ciudades, utilizando un algoritmo basado en una cola de prioridad (heap) que prioriza el costo total del viaje.\n",
    "\n",
    "## 📌 Descripción:\n",
    "\n",
    "1. **Cola de Prioridad**: Se utiliza una estructura de tipo heap para priorizar las rutas con menor costo total.\n",
    "2. **Visitados**: Un conjunto que asegura que no se visiten los mismos aeropuertos bajo las mismas condiciones varias veces.\n",
    "3. **Recorrido**: Se evalúan todas las posibles rutas desde la ciudad de origen hasta el destino final, sumando los costos de vuelo y respetando las restricciones de tiempo entre conexiones (al menos una hora).\n",
    "4. **Salida**: Al encontrar la ruta más económica, se imprime la secuencia de vuelos y el costo total del viaje.\n"
   ]
  },
  {
   "cell_type": "code",
   "execution_count": 284,
   "metadata": {},
   "outputs": [],
   "source": [
    "def ruta_mas_barata(inicio, destino):\n",
    "    cola = []\n",
    "    visitados = set()\n",
    "    for vuelo in vuelos_por_origen.get(inicio, []):\n",
    "        costo_total = vuelo['Precio_Vuelo']\n",
    "        ruta = [vuelo]\n",
    "        heapq.heappush(cola, (costo_total, vuelo['Fecha_Llegada'], ruta))\n",
    "    \n",
    "    while cola:\n",
    "        costo_actual, llegada_actual, ruta_actual = heapq.heappop(cola)\n",
    "        ultimo_vuelo = ruta_actual[-1]\n",
    "        aeropuerto_actual = ultimo_vuelo['Destino']\n",
    "        \n",
    "        if aeropuerto_actual == destino:\n",
    "            print(f\"🛬 Ruta más barata de {inicio} a {destino}:\")\n",
    "            for vuelo in ruta_actual:\n",
    "                print(f\"- Vuelo de {vuelo['Origen']} a {vuelo['Destino']} (${vuelo['Precio_Vuelo']:.2f})\")\n",
    "            print(f\"💰 Costo total: ${costo_actual:.2f}.\")\n",
    "            return\n",
    "        \n",
    "        if (aeropuerto_actual, llegada_actual) not in visitados:\n",
    "            visitados.add((aeropuerto_actual, llegada_actual))\n",
    "            for vuelo in vuelos_por_origen.get(aeropuerto_actual, []):\n",
    "                if vuelo['Fecha_Salida'] >= llegada_actual + pd.Timedelta(hours=1):\n",
    "                    nuevo_costo = costo_actual + vuelo['Precio_Vuelo']\n",
    "                    nueva_ruta = ruta_actual + [vuelo]\n",
    "                    heapq.heappush(cola, (nuevo_costo, vuelo['Fecha_Llegada'], nueva_ruta))\n",
    "    \n",
    "    print(f\"❌ No se encontró una ruta de {inicio} a {destino}.\")"
   ]
  },
  {
   "cell_type": "markdown",
   "metadata": {},
   "source": []
  },
  {
   "cell_type": "markdown",
   "metadata": {},
   "source": [
    "# 🔍 Función: Búsqueda en Anchura (BFS)\n",
    "\n",
    "La función `busqueda_bfs` encuentra todas las rutas posibles entre dos ciudades utilizando un algoritmo de búsqueda en amplitud (BFS), que explora todas las rutas de manera sistemática antes de profundizar en una sola.\n",
    "\n",
    "## 📌 Descripción:\n",
    "\n",
    "1. **Cola (Queue)**: Utiliza una cola para almacenar las rutas en proceso de evaluación. Comienza evaluando los vuelos desde la ciudad de origen.\n",
    "2. **Visitados**: Un conjunto que asegura que no se visiten las mismas combinaciones de aeropuertos y tiempos de llegada varias veces.\n",
    "3. **Recorrido**: Evalúa todas las posibles rutas desde la ciudad de origen hasta el destino final, asegurándose de que cada vuelo salga al menos una hora después de la llegada del vuelo anterior.\n",
    "4. **Salida**: Al encontrar una ruta completa hacia el destino, se añade a la lista de rutas encontradas.\n"
   ]
  },
  {
   "cell_type": "code",
   "execution_count": 285,
   "metadata": {},
   "outputs": [],
   "source": [
    "# Función para buscar rutas con BFS\n",
    "def busqueda_bfs(inicio, destino):\n",
    "    visitados = set()\n",
    "    cola = deque()\n",
    "    rutas_encontradas = []\n",
    "    \n",
    "    # Comenzamos con los vuelos que salen de la ciudad de inicio\n",
    "    for vuelo in vuelos_por_origen.get(inicio, []):\n",
    "        cola.append(([vuelo], vuelo['Fecha_Llegada']))\n",
    "    \n",
    "    # Búsqueda en anchura\n",
    "    while cola:\n",
    "        ruta_actual, llegada_actual = cola.popleft()  # Tomamos la primera ruta en la cola\n",
    "        ultimo_vuelo = ruta_actual[-1]\n",
    "        aeropuerto_actual = ultimo_vuelo['Destino']\n",
    "        \n",
    "        # Si llegamos al destino, agregamos la ruta encontrada\n",
    "        if aeropuerto_actual == destino:\n",
    "            rutas_encontradas.append(ruta_actual)\n",
    "            continue\n",
    "        \n",
    "        # Si el aeropuerto actual no ha sido visitado\n",
    "        if (aeropuerto_actual, llegada_actual) not in visitados:\n",
    "            visitados.add((aeropuerto_actual, llegada_actual))\n",
    "            \n",
    "            # Buscamos vuelos desde el aeropuerto actual, respetando las horas de salida\n",
    "            for vuelo in vuelos_por_origen.get(aeropuerto_actual, []):\n",
    "                if vuelo['Fecha_Salida'] >= llegada_actual + pd.Timedelta(hours=1):\n",
    "                    nueva_ruta = ruta_actual + [vuelo]\n",
    "                    cola.append((nueva_ruta, vuelo['Fecha_Llegada']))\n",
    "    \n",
    "    return rutas_encontradas if rutas_encontradas else None\n",
    "# Función para mostrar las rutas encontradas con BFS\n",
    "def mostrar_rutas_bfs(inicio, destino):\n",
    "    rutas = busqueda_bfs(inicio, destino)\n",
    "    if rutas:\n",
    "        print(f\"🌐 Rutas encontradas entre {inicio} y {destino} (BFS):\")\n",
    "        for idx, ruta in enumerate(rutas, 1):\n",
    "            print(f\"{idx})\")\n",
    "            for vuelo in ruta:\n",
    "                print(f\"   - Vuelo de {vuelo['Origen']} a {vuelo['Destino']} saliendo el {vuelo['Fecha_Salida']}\")\n",
    "    else:\n",
    "        print(f\"❌ No se encontraron rutas entre {inicio} y {destino}.\")"
   ]
  },
  {
   "cell_type": "markdown",
   "metadata": {},
   "source": [
    "# 🔍 Función: Búsqueda en Profundidad (DFS)\n",
    "\n",
    "La función `busqueda_dfs` encuentra todas las rutas posibles entre dos ciudades utilizando un algoritmo de búsqueda en profundidad (DFS). A diferencia de BFS, este algoritmo explora una ruta completa antes de retroceder y probar otras.\n",
    "\n",
    "## 📌 Descripción:\n",
    "\n",
    "1. **Recursividad**: Utiliza la recursión para profundizar en una ruta hasta que llegue al destino o no haya más vuelos disponibles.\n",
    "2. **Visitados**: Utiliza un conjunto para evitar visitar las mismas combinaciones de aeropuerto y tiempo de llegada varias veces.\n",
    "3. **Condiciones**: Evalúa los vuelos que salen al menos una hora después de la llegada del vuelo anterior.\n",
    "4. **Salida**: Al encontrar una ruta completa hacia el destino, la ruta se guarda en la lista de rutas encontradas.\n"
   ]
  },
  {
   "cell_type": "code",
   "execution_count": 286,
   "metadata": {},
   "outputs": [],
   "source": [
    "def busqueda_dfs(inicio, destino, llegada_anterior=None, ruta_actual=None, rutas_encontradas=None, visitados=None):\n",
    "    if ruta_actual is None:\n",
    "        ruta_actual = []\n",
    "    if rutas_encontradas is None:\n",
    "        rutas_encontradas = []\n",
    "    if visitados is None:\n",
    "        visitados = set()\n",
    "    \n",
    "    # Si es la primera llamada, iniciamos con los vuelos desde la ciudad de inicio\n",
    "    if llegada_anterior is None:\n",
    "        for vuelo in vuelos_por_origen.get(inicio, []):\n",
    "            busqueda_dfs(vuelo['Destino'], destino, vuelo['Fecha_Llegada'], [vuelo], rutas_encontradas, {(inicio, vuelo['Fecha_Llegada'])})\n",
    "    else:\n",
    "        # Si no hemos visitado el aeropuerto actual\n",
    "        if (inicio, llegada_anterior) not in visitados:\n",
    "            visitados.add((inicio, llegada_anterior))\n",
    "            \n",
    "            # Si llegamos al destino, agregamos la ruta encontrada\n",
    "            if inicio == destino:\n",
    "                rutas_encontradas.append(ruta_actual.copy())\n",
    "                return\n",
    "            \n",
    "            # Buscamos vuelos que salgan después de la llegada más una hora\n",
    "            for vuelo in vuelos_por_origen.get(inicio, []):\n",
    "                if vuelo['Fecha_Salida'] >= llegada_anterior + pd.Timedelta(hours=1):\n",
    "                    ruta_actual.append(vuelo)\n",
    "                    busqueda_dfs(vuelo['Destino'], destino, vuelo['Fecha_Llegada'], ruta_actual, rutas_encontradas, visitados)\n",
    "                    ruta_actual.pop()\n",
    "    \n",
    "    return rutas_encontradas if rutas_encontradas else None\n",
    "\n",
    "\n",
    "# Función para mostrar las rutas encontradas con DFS\n",
    "def mostrar_rutas_dfs(inicio, destino):\n",
    "    rutas = busqueda_dfs(inicio, destino)\n",
    "    if rutas:\n",
    "        print(f\"🌐 Rutas encontradas entre {inicio} y {destino} (DFS):\")\n",
    "        for idx, ruta in enumerate(rutas, 1):\n",
    "            print(f\"{idx})\")\n",
    "            for vuelo in ruta:\n",
    "                print(f\"   - Vuelo de {vuelo['Origen']} a {vuelo['Destino']} saliendo el {vuelo['Fecha_Salida']}\")\n",
    "    else:\n",
    "        print(f\"❌ No se encontraron rutas entre {inicio} y {destino}.\")"
   ]
  },
  {
   "cell_type": "markdown",
   "metadata": {},
   "source": [
    "# 🗺️ Destinos Directos desde una Ciudad\n",
    "Podemos obtener una lista de destinos a los que podemos volar directamente desde una ciudad específica."
   ]
  },
  {
   "cell_type": "code",
   "execution_count": 287,
   "metadata": {},
   "outputs": [],
   "source": [
    "def destinos_directos(origen):\n",
    "    if origen in vuelos_por_origen:\n",
    "        destinos = [vuelo['Destino'] for vuelo in vuelos_por_origen[origen]]\n",
    "        destinos_unicos = list(set(destinos))\n",
    "        return destinos_unicos if destinos_unicos else None\n",
    "    else:\n",
    "        return None"
   ]
  },
  {
   "cell_type": "markdown",
   "metadata": {},
   "source": [
    "# 🌐 Destinos Indirectos desde una Ciudad\n",
    "Podemos obtener una lista de destinos a los que podemos volar indirectamente desde una ciudad específica."
   ]
  },
  {
   "cell_type": "code",
   "execution_count": 288,
   "metadata": {},
   "outputs": [],
   "source": [
    "def destinos_indirectos(inicio):\n",
    "    visitados = set()\n",
    "    cola = deque([inicio])\n",
    "    destinos = []\n",
    "\n",
    "    while cola:\n",
    "        aeropuerto_actual = cola.popleft()\n",
    "        if aeropuerto_actual not in visitados:\n",
    "            visitados.add(aeropuerto_actual)\n",
    "            if aeropuerto_actual != inicio:\n",
    "                destinos.append(aeropuerto_actual)\n",
    "            for vuelo in vuelos_por_origen.get(aeropuerto_actual, []):\n",
    "                if vuelo['Destino'] not in visitados:\n",
    "                    cola.append(vuelo['Destino'])\n",
    "    return destinos if destinos else None"
   ]
  },
  {
   "cell_type": "markdown",
   "metadata": {},
   "source": [
    "# 👥 Interacción con el Usuario\n",
    "Solicitamos al usuario que introduzca las ciudades de origen y destino, y luego mostramos la ruta más rápida, la más barata y todas las rutas posibles."
   ]
  },
  {
   "cell_type": "code",
   "execution_count": null,
   "metadata": {},
   "outputs": [],
   "source": [
    "# Solicitar la ciudad de origen y destino al usuario\n",
    "origen_usuario = input(\"✈️ Introduce la ciudad de origen: \")\n",
    "destino_usuario = input(\"🛬 Introduce la ciudad de destino: \")\n",
    "\n",
    "# Mostrar la ruta más rápida\n",
    "ruta_mas_rapida(origen_usuario, destino_usuario)\n",
    "print(\"\\n\")\n",
    "\n",
    "# Mostrar la ruta más barata\n",
    "ruta_mas_barata(origen_usuario, destino_usuario)\n",
    "print(\"\\n\")\n",
    "\n",
    "# Mostrar todas las rutas encontradas por BFS\n",
    "mostrar_rutas_bfs(origen_usuario, destino_usuario)\n",
    "print(\"\\n\")\n",
    "\n",
    "# Mostrar todas las rutas encontradas por DFS\n",
    "mostrar_rutas_dfs(origen_usuario, destino_usuario)\n",
    "print(\"\\n\")\n",
    "\n",
    "# Mostrar destinos directos\n",
    "destinos = destinos_directos(origen_usuario)\n",
    "if destinos:\n",
    "    print(f\"🛫 Desde {origen_usuario} puedes volar directamente a: {', '.join(destinos)}\")\n",
    "else:\n",
    "    print(f\"❌ No hay vuelos directos desde {origen_usuario}.\")\n",
    "\n",
    "# Mostrar destinos indirectos\n",
    "destinos_indirectos = destinos_indirectos(origen_usuario)\n",
    "if destinos_indirectos:\n",
    "    print(f\"🛫 Desde {origen_usuario} puedes volar a: {', '.join(destinos_indirectos)}\")\n",
    "else:\n",
    "    print(f\"❌ No hay rutas indirectas desde {origen_usuario}.\")"
   ]
  },
  {
   "cell_type": "markdown",
   "metadata": {},
   "source": [
    "# 📌 Comentarios Finales\n",
    "Este programa te permite explorar rutas de vuelo entre diferentes ciudades, teniendo en cuenta restricciones de tiempo y conexiones. Puedes modificar el archivo CSV para agregar más vuelos y probar diferentes escenarios. 🛩️\n",
    "\n"
   ]
  }
 ],
 "metadata": {
  "kernelspec": {
   "display_name": "Python 3",
   "language": "python",
   "name": "python3"
  },
  "language_info": {
   "codemirror_mode": {
    "name": "ipython",
    "version": 3
   },
   "file_extension": ".py",
   "mimetype": "text/x-python",
   "name": "python",
   "nbconvert_exporter": "python",
   "pygments_lexer": "ipython3",
   "version": "3.12.1"
  }
 },
 "nbformat": 4,
 "nbformat_minor": 2
}

{
  "nbformat": 4,
  "nbformat_minor": 0,
  "metadata": {
    "colab": {
      "provenance": []
    },
    "kernelspec": {
      "name": "python3",
      "display_name": "Python 3"
    },
    "language_info": {
      "name": "python"
    }
  },
  "cells": [
    {
      "cell_type": "code",
      "execution_count": null,
      "metadata": {
        "id": "o7Ea56_F9qSK"
      },
      "outputs": [],
      "source": [
        "# Definición de las proposiciones (not, and, or)\n",
        "\n",
        "# Enunciado 1: No vi Oppenheimer, pero vi Barbie\n",
        "vi_a_oppenheimer = False\n",
        "vi_a_barbie = True\n",
        "\n",
        "# Enunciado 2: No creo en el amor, pero tampoco creo en la venganza\n",
        "creo_en_amor = False\n",
        "creo_en_venganza = False\n",
        "\n",
        "# Enunciado 3: Batman no es un superhéroe, pero no es convencional\n",
        "batman_es_superheroe = False\n",
        "batman_es_convencional = False\n",
        "\n",
        "# Enunciado 4: No es cierto que el vestido es azul y dorado\n",
        "vestido_es_azul_y_dorado = False\n",
        "\n",
        "# Enunciado 5: O tú estás mal, o es falso lo que te dijeron\n",
        "tu_estas_mal = True\n",
        "es_falso_lo_que_te_dijeron = False\n",
        "\n",
        "# Enunciado 6: Si el joker No estuviera loco, NO se enfrentaría a Batman\n",
        "joker_esta_loco = True\n",
        "joker_se_enfrenta_a_batman = True\n",
        "\n",
        "# Enunciado 7: Si el pokémon es tipo agua, NO le gana al tipo hierba\n",
        "pokemon_es_tipo_agua = True\n",
        "pokemon_le_gana_a_tipo_hierba = False\n",
        "\n",
        "# Enunciado 8: Si eres valiente, el sombrero te pondrá en Gryffindor\n",
        "eres_valiente = True\n",
        "sombrero_te_pondra_en_gryffindor = True\n",
        "\n",
        "# Evaluar las frases: TODO\n",
        "proposicion1 = # Lógica aquí\n",
        "proposicion2 = # Lógica aquí\n",
        "proposicion3 = # Lógica aquí\n",
        "proposicion4 = # Lógica aquí\n",
        "proposicion5 = # Lógica aquí\n",
        "proposicion6 = # Lógica aquí\n",
        "proposicion7 = # Lógica aquí\n",
        "proposicion8 = # Lógica aquí\n",
        "\n",
        "# Imprimir los resultados\n",
        "print(\"¿Es cierto que no vi a Oppenheimer, pero vi a Barbie? \", proposicion1)\n",
        "print(\"¿Es cierto que no creo en el amor, pero tampoco creo en la venganza? \", proposicion2)\n",
        "print(\"¿Es cierto que Batman no es un superhéroe, pero no es convencional? \", proposicion3)\n",
        "print(\"¿Es cierto que no es cierto que el vestido es azul y dorado? \", proposicion4)\n",
        "print(\"¿Es cierto que o tú estás mal, o es falso lo que te dijeron? \", proposicion5)\n",
        "print(\"¿Es cierto que si el joker no estuviera loco, no se enfrentaría a Batman? \", proposicion6)\n",
        "print(\"¿Es cierto que si el pokémon es tipo agua, no le gana al tipo hierba? \", proposicion7)\n",
        "print(\"¿Es cierto que si eres valiente, el sombrero te pondrá en Gryffindor? \", proposicion8)"
      ]
    }
  ]
}
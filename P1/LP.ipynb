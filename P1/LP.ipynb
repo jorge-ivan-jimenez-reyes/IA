{
  "cells": [
    {
      "cell_type": "code",
      "execution_count": null,
      "metadata": {
        "id": "o7Ea56_F9qSK"
      },
      "outputs": [],
      "source": [
        "# Evaluar las frases\n",
        "proposicion1 = not vi_a_oppenheimer and vi_a_barbie\n",
        "proposicion2 = not creo_en_amor and not creo_en_venganza\n",
        "proposicion3 = not batman_es_superheroe and not batman_es_convencional\n",
        "proposicion4 = not vestido_es_azul_y_dorado\n",
        "proposicion5 = tu_estas_mal or es_falso_lo_que_te_dijeron\n",
        "proposicion6 = not joker_esta_loco <= not joker_se_enfrenta_a_batman  # Implicación\n",
        "proposicion7 = pokemon_es_tipo_agua <= not pokemon_le_gana_a_tipo_hierba  # Implicación\n",
        "proposicion8 = eres_valiente <= sombrero_te_pondra_en_gryffindor  # Implicación\n",
        "\n",
        "# Imprimir los resultados\n",
        "print(\"¿Es cierto que no vi a Oppenheimer, pero vi a Barbie? \", proposicion1)\n",
        "print(\"¿Es cierto que no creo en el amor, pero tampoco creo en la venganza? \", proposicion2)\n",
        "print(\"¿Es cierto que Batman no es un superhéroe, pero no es convencional? \", proposicion3)\n",
        "print(\"¿Es cierto que no es cierto que el vestido es azul y dorado? \", proposicion4)\n",
        "print(\"¿Es cierto que o tú estás mal, o es falso lo que te dijeron? \", proposicion5)\n",
        "print(\"¿Es cierto que si el joker no estuviera loco, no se enfrentaría a Batman? \", proposicion6)\n",
        "print(\"¿Es cierto que si el pokémon es tipo agua, no le gana al tipo hierba? \", proposicion7)\n",
        "print(\"¿Es cierto que si eres valiente, el sombrero te pondrá en Gryffindor? \", proposicion8)\n"
      ]
    }
  ],
  "metadata": {
    "colab": {
      "provenance": []
    },
    "kernelspec": {
      "display_name": "Python 3",
      "name": "python3"
    },
    "language_info": {
      "name": "python"
    }
  },
  "nbformat": 4,
  "nbformat_minor": 0
}

{
 "cells": [
  {
   "cell_type": "code",
   "execution_count": 5,
   "id": "58b4e678-0fc8-4fb5-815b-1ee4f3ff6e4c",
   "metadata": {
    "scrolled": true
   },
   "outputs": [
    {
     "name": "stdout",
     "output_type": "stream",
     "text": [
      "Requirement already satisfied: networkx in c:\\users\\jorge\\miniconda3\\envs\\actumlogos-cpu\\lib\\site-packages (3.2.1)\n",
      "Requirement already satisfied: matplotlib in c:\\users\\jorge\\miniconda3\\envs\\actumlogos-cpu\\lib\\site-packages (3.8.4)\n",
      "Requirement already satisfied: contourpy>=1.0.1 in c:\\users\\jorge\\miniconda3\\envs\\actumlogos-cpu\\lib\\site-packages (from matplotlib) (1.2.0)\n",
      "Requirement already satisfied: cycler>=0.10 in c:\\users\\jorge\\miniconda3\\envs\\actumlogos-cpu\\lib\\site-packages (from matplotlib) (0.11.0)\n",
      "Requirement already satisfied: fonttools>=4.22.0 in c:\\users\\jorge\\miniconda3\\envs\\actumlogos-cpu\\lib\\site-packages (from matplotlib) (4.51.0)\n",
      "Requirement already satisfied: kiwisolver>=1.3.1 in c:\\users\\jorge\\miniconda3\\envs\\actumlogos-cpu\\lib\\site-packages (from matplotlib) (1.4.4)\n",
      "Requirement already satisfied: numpy>=1.21 in c:\\users\\jorge\\miniconda3\\envs\\actumlogos-cpu\\lib\\site-packages (from matplotlib) (1.26.4)\n",
      "Requirement already satisfied: packaging>=20.0 in c:\\users\\jorge\\miniconda3\\envs\\actumlogos-cpu\\lib\\site-packages (from matplotlib) (24.1)\n",
      "Requirement already satisfied: pillow>=8 in c:\\users\\jorge\\miniconda3\\envs\\actumlogos-cpu\\lib\\site-packages (from matplotlib) (10.4.0)\n",
      "Requirement already satisfied: pyparsing>=2.3.1 in c:\\users\\jorge\\miniconda3\\envs\\actumlogos-cpu\\lib\\site-packages (from matplotlib) (3.0.9)\n",
      "Requirement already satisfied: python-dateutil>=2.7 in c:\\users\\jorge\\miniconda3\\envs\\actumlogos-cpu\\lib\\site-packages (from matplotlib) (2.9.0.post0)\n",
      "Requirement already satisfied: importlib-resources>=3.2.0 in c:\\users\\jorge\\miniconda3\\envs\\actumlogos-cpu\\lib\\site-packages (from matplotlib) (6.4.0)\n",
      "Requirement already satisfied: zipp>=3.1.0 in c:\\users\\jorge\\miniconda3\\envs\\actumlogos-cpu\\lib\\site-packages (from importlib-resources>=3.2.0->matplotlib) (3.17.0)\n",
      "Requirement already satisfied: six>=1.5 in c:\\users\\jorge\\miniconda3\\envs\\actumlogos-cpu\\lib\\site-packages (from python-dateutil>=2.7->matplotlib) (1.16.0)\n",
      "Note: you may need to restart the kernel to use updated packages.\n"
     ]
    }
   ],
   "source": [
    "%pip install networkx matplotlib"
   ]
  },
  {
   "cell_type": "code",
   "execution_count": 3,
   "id": "d0507edc-38ce-4c7c-af99-89f5ab554105",
   "metadata": {},
   "outputs": [],
   "source": [
    "# Importamos las librerías para trabajar con BFS(Breadth-First Search)\n",
    "# Búsqueda en amplitud\n",
    "\n",
    "import networkx as nx\n",
    "import matplotlib.pyplot as plt\n",
    "from collections import deque"
   ]
  },
  {
   "cell_type": "code",
   "execution_count": 14,
   "id": "beb7ba63-171d-47bf-a137-2053103f386f",
   "metadata": {},
   "outputs": [],
   "source": [
    "# Definimos el grafo como un diccionario de listas de adyacencia\n",
    "grafo = {\n",
    "    'A': ['B', 'C'],\n",
    "    'B': ['A', 'D'],\n",
    "    'C': ['A'],\n",
    "    'D': ['B']\n",
    "}\n",
    "\n",
    "# Nodo de inicio y nodo objetivo\n",
    "nodo_inicio = 'A'\n",
    "nodo_objetivo = 'D'"
   ]
  },
  {
   "cell_type": "code",
   "execution_count": 10,
   "id": "d0f93fc9",
   "metadata": {},
   "outputs": [],
   "source": [
    "grafo_e2 = {\n",
    "    'A': ['B','C'],\n",
    "    'B': ['A','D','E'],\n",
    "    'C': ['A'],\n",
    "    'D': ['B'],\n",
    "    'E': ['B','F','G'],\n",
    "    'F': ['E'],\n",
    "    'G': ['E'] \n",
    "}\n",
    "nodo_inicio_e2 = 'A'\n",
    "nodo_objetivo_e2 = 'F'"
   ]
  },
  {
   "cell_type": "code",
   "execution_count": 11,
   "id": "76d671e8",
   "metadata": {},
   "outputs": [],
   "source": [
    "grafo_e3 = {\n",
    "    'A': ['B','C', 'D'],\n",
    "    'B': ['A','E'],\n",
    "    'C': ['A','E'],\n",
    "    'D': ['A','F'],\n",
    "    'E': ['B','C'],\n",
    "    'F': ['D']\n",
    "}\n",
    "nodo_inicio_e3 = 'A'\n",
    "nodo_objetivo_e3 = 'E'"
   ]
  },
  {
   "cell_type": "code",
   "execution_count": 8,
   "id": "0304f326-a58e-4984-a7ad-113d51d0e7e5",
   "metadata": {},
   "outputs": [],
   "source": [
    "# Definimos nuestro algoritmo de búsqueda:\n",
    "\n",
    "def busqueda_amplitud(grafo, inicio, objetivo):\n",
    "    # El método set crea un conjunto de datos SIMILAR a una lista pero que\n",
    "    # NO puede tener elementos duplicados\n",
    "    visitados = set()\n",
    "    # (Doubly Ended Queue) Es un tio de lista que permite agregar y eliminar\n",
    "    # elementos ya sea a la izquiera o a la derecha de la misma\n",
    "    cola = deque([(inicio, [inicio])])\n",
    "\n",
    "    i = 1\n",
    "    while cola:\n",
    "        # Aquí removemos el primer elemento del set (El de la izquierda)\n",
    "        # y este será nuestro nodo actual, el resto, el camino (Path restante)\n",
    "        nodo_actual, camino = cola.popleft()\n",
    "        print(\"\\nIteración:\", i)\n",
    "        print(\"Nodo actual:\", nodo_actual)\n",
    "        \n",
    "        if nodo_actual == objetivo:\n",
    "            print(\"Camino encontrado:\", \"->\".join(camino))\n",
    "            return camino\n",
    "        \n",
    "        if nodo_actual not in visitados:\n",
    "            visitados.add(nodo_actual)\n",
    "            print(\"Nodos visitados\", visitados)\n",
    "            for vecino in grafo[nodo_actual]:\n",
    "                if vecino not in visitados:\n",
    "                    nueva_ruta = camino + [vecino]\n",
    "                    print(\"Nueva ruta:\", nueva_ruta)\n",
    "                    cola.append((vecino, nueva_ruta))\n",
    "        i += 1\n",
    "    print(\"No se encontró un camino al nodo objetivo.\")\n",
    "    return None"
   ]
  },
  {
   "cell_type": "code",
   "execution_count": 15,
   "id": "74db7a86-1c78-4736-8b38-61878a114860",
   "metadata": {
    "scrolled": true
   },
   "outputs": [
    {
     "name": "stdout",
     "output_type": "stream",
     "text": [
      "\n",
      "Iteración: 1\n",
      "Nodo actual: A\n",
      "Nodos visitados {'A'}\n",
      "Nueva ruta: ['A', 'B']\n",
      "Nueva ruta: ['A', 'C']\n",
      "\n",
      "Iteración: 2\n",
      "Nodo actual: B\n",
      "Nodos visitados {'A', 'B'}\n",
      "Nueva ruta: ['A', 'B', 'D']\n",
      "\n",
      "Iteración: 3\n",
      "Nodo actual: C\n",
      "Nodos visitados {'C', 'A', 'B'}\n",
      "\n",
      "Iteración: 4\n",
      "Nodo actual: D\n",
      "Camino encontrado: A->B->D\n"
     ]
    }
   ],
   "source": [
    "# Realizamos la búsqueda en amplitud\n",
    "camino = busqueda_amplitud(grafo, nodo_inicio, nodo_objetivo)"
   ]
  },
  {
   "cell_type": "code",
   "execution_count": 16,
   "id": "36b74fe6",
   "metadata": {},
   "outputs": [
    {
     "name": "stdout",
     "output_type": "stream",
     "text": [
      "\n",
      "Iteración: 1\n",
      "Nodo actual: A\n",
      "Nodos visitados {'A'}\n",
      "Nueva ruta: ['A', 'B']\n",
      "Nueva ruta: ['A', 'C']\n",
      "\n",
      "Iteración: 2\n",
      "Nodo actual: B\n",
      "Nodos visitados {'A', 'B'}\n",
      "Nueva ruta: ['A', 'B', 'D']\n",
      "Nueva ruta: ['A', 'B', 'E']\n",
      "\n",
      "Iteración: 3\n",
      "Nodo actual: C\n",
      "Nodos visitados {'C', 'A', 'B'}\n",
      "\n",
      "Iteración: 4\n",
      "Nodo actual: D\n",
      "Nodos visitados {'D', 'C', 'A', 'B'}\n",
      "\n",
      "Iteración: 5\n",
      "Nodo actual: E\n",
      "Nodos visitados {'D', 'A', 'B', 'E', 'C'}\n",
      "Nueva ruta: ['A', 'B', 'E', 'F']\n",
      "Nueva ruta: ['A', 'B', 'E', 'G']\n",
      "\n",
      "Iteración: 6\n",
      "Nodo actual: F\n",
      "Camino encontrado: A->B->E->F\n"
     ]
    }
   ],
   "source": [
    "camino_e2 = busqueda_amplitud(grafo_e2, nodo_inicio_e2, nodo_objetivo_e2)"
   ]
  },
  {
   "cell_type": "code",
   "execution_count": 17,
   "id": "8cddceb1",
   "metadata": {},
   "outputs": [
    {
     "name": "stdout",
     "output_type": "stream",
     "text": [
      "\n",
      "Iteración: 1\n",
      "Nodo actual: A\n",
      "Nodos visitados {'A'}\n",
      "Nueva ruta: ['A', 'B']\n",
      "Nueva ruta: ['A', 'C']\n",
      "Nueva ruta: ['A', 'D']\n",
      "\n",
      "Iteración: 2\n",
      "Nodo actual: B\n",
      "Nodos visitados {'A', 'B'}\n",
      "Nueva ruta: ['A', 'B', 'E']\n",
      "\n",
      "Iteración: 3\n",
      "Nodo actual: C\n",
      "Nodos visitados {'C', 'A', 'B'}\n",
      "Nueva ruta: ['A', 'C', 'E']\n",
      "\n",
      "Iteración: 4\n",
      "Nodo actual: D\n",
      "Nodos visitados {'D', 'C', 'A', 'B'}\n",
      "Nueva ruta: ['A', 'D', 'F']\n",
      "\n",
      "Iteración: 5\n",
      "Nodo actual: E\n",
      "Camino encontrado: A->B->E\n"
     ]
    }
   ],
   "source": [
    "camino_e3 = busqueda_amplitud(grafo_e3, nodo_inicio_e3, nodo_objetivo_e3)"
   ]
  },
  {
   "cell_type": "code",
   "execution_count": 18,
   "id": "79532fff-0703-4d69-9ef7-c940989d738d",
   "metadata": {},
   "outputs": [
    {
     "data": {
      "image/png": "[encoded data removed]",
      "text/plain": [
       "<Figure size 640x480 with 1 Axes>"
      ]
     },
     "metadata": {},
     "output_type": "display_data"
    }
   ],
   "source": [
    "# Creamos el gráfico\n",
    "G = nx.Graph(grafo)\n",
    "\n",
    "# Coloreamos los nodos según si están en el camino o no\n",
    "colores = ['cyan' if nodo in camino else 'red' for nodo in G.nodes()]\n",
    "\n",
    "# Dibujamos el grafo\n",
    "pos = nx.spring_layout(G)\n",
    "nx.draw(G, pos, with_labels=True, node_color=colores, node_size=1000)\n",
    "plt.title(\"Búsqueda en Amplitud\")\n",
    "plt.show()"
   ]
  },
  {
   "cell_type": "code",
   "execution_count": 19,
   "id": "740ca285-49cb-4b9a-a36e-7d9b39cd9013",
   "metadata": {},
   "outputs": [
    {
     "data": {
      "image/png": "[encoded data removed]",
      "text/plain": [
       "<Figure size 640x480 with 1 Axes>"
      ]
     },
     "metadata": {},
     "output_type": "display_data"
    }
   ],
   "source": [
    "# Creamos el gráfico\n",
    "G2 = nx.Graph(grafo_e2)\n",
    "\n",
    "# Coloreamos los nodos según si están en el camino o no\n",
    "colores = ['cyan' if nodo in camino_e2 else 'red' for nodo in G2.nodes()]\n",
    "\n",
    "# Dibujamos el grafo\n",
    "pos2 = nx.spring_layout(G2)\n",
    "nx.draw(G2, pos2, with_labels=True, node_color=colores, node_size=1000)\n",
    "plt.title(\"Búsqueda en Amplitud Ejemplo 2\")\n",
    "plt.show()"
   ]
  },
  {
   "cell_type": "code",
   "execution_count": 20,
   "id": "6190717d",
   "metadata": {},
   "outputs": [
    {
     "data": {
      "image/png": "[encoded data removed]",
      "text/plain": [
       "<Figure size 640x480 with 1 Axes>"
      ]
     },
     "metadata": {},
     "output_type": "display_data"
    }
   ],
   "source": [
    "# Creamos el gráfico\n",
    "G3 = nx.Graph(grafo_e3)\n",
    "\n",
    "# Coloreamos los nodos según si están en el camino o no\n",
    "colores = ['cyan' if nodo in camino_e3 else 'red' for nodo in G3.nodes()]\n",
    "\n",
    "# Dibujamos el grafo\n",
    "pos3 = nx.spring_layout(G3)\n",
    "nx.draw(G3, pos3, with_labels=True, node_color=colores, node_size=1000)\n",
    "plt.title(\"Búsqueda en Amplitud Ejemplo 3\")\n",
    "plt.show()"
   ]
  },
  {
   "cell_type": "code",
   "execution_count": 1,
   "id": "275c13a6",
   "metadata": {},
   "outputs": [],
   "source": [
    "# Definimos el grafo como un diccionario de listas de adyacencia con pesos\n",
    "grafo = {\n",
    "    'A': [('B', 3), ('F', 5)],\n",
    "    'B': [('C', 5), ('D', 9)],\n",
    "    'C': [],\n",
    "    'D': [],\n",
    "    'E': [],\n",
    "    'F': [('D', 6)]\n",
    "}\n",
    "\n",
    "# Nodo de inicio y nodo objetivo\n",
    "nodo_inicio = 'A'\n",
    "nodo_objetivo = 'E'\n"
   ]
  },
  {
   "cell_type": "code",
   "execution_count": 6,
   "id": "8375ab96",
   "metadata": {},
   "outputs": [
    {
     "name": "stdout",
     "output_type": "stream",
     "text": [
      "\n",
      "Iteración: 1\n",
      "Nodo actual: A\n",
      "Nodos visitados: {'A'}\n",
      "Nueva ruta: ['A', 'B']\n",
      "Nueva ruta: ['A', 'F']\n",
      "\n",
      "Iteración: 2\n",
      "Nodo actual: B\n",
      "Nodos visitados: {'A', 'B'}\n",
      "Nueva ruta: ['A', 'B', 'C']\n",
      "Nueva ruta: ['A', 'B', 'D']\n",
      "\n",
      "Iteración: 3\n",
      "Nodo actual: F\n",
      "Nodos visitados: {'A', 'F', 'B'}\n",
      "Nueva ruta: ['A', 'F', 'D']\n",
      "\n",
      "Iteración: 4\n",
      "Nodo actual: C\n",
      "Nodos visitados: {'C', 'A', 'F', 'B'}\n",
      "\n",
      "Iteración: 5\n",
      "Nodo actual: D\n",
      "Nodos visitados: {'C', 'F', 'B', 'D', 'A'}\n",
      "\n",
      "Iteración: 6\n",
      "Nodo actual: D\n",
      "No se encontró un camino al nodo objetivo.\n"
     ]
    }
   ],
   "source": [
    "from collections import deque\n",
    "\n",
    "# Definimos el algoritmo de búsqueda en amplitud\n",
    "def busqueda_amplitud(grafo, inicio, objetivo):\n",
    "   \n",
    "    visitados = set()\n",
    "    \n",
    "    cola = deque([(inicio, [inicio])])\n",
    "\n",
    "    i = 1  # Contador de iteraciones\n",
    "    while cola:\n",
    "    \n",
    "        nodo_actual, camino = cola.popleft()\n",
    "        print(\"\\nIteración:\", i)\n",
    "        print(\"Nodo actual:\", nodo_actual)\n",
    "        \n",
    "        # Si encontramos el nodo objetivo, retornamos el camino\n",
    "        if nodo_actual == objetivo:\n",
    "            print(\"Camino encontrado:\", \" -> \".join(camino))\n",
    "            return camino\n",
    "        \n",
    "        # Si el nodo actual no ha sido visitado, lo añadimos a visitados\n",
    "        if nodo_actual not in visitados:\n",
    "            visitados.add(nodo_actual)\n",
    "            print(\"Nodos visitados:\", visitados)\n",
    "            \n",
    "            # Recorremos los vecinos del nodo actual\n",
    "            for vecino in grafo[nodo_actual]:\n",
    "                if vecino not in visitados:\n",
    "                    # Generamos un nuevo camino con el vecino actual\n",
    "                    nueva_ruta = camino + [vecino]\n",
    "                    print(\"Nueva ruta:\", nueva_ruta)\n",
    "                    # Añadimos el vecino y la nueva ruta a la cola para ser explorados\n",
    "                    cola.append((vecino, nueva_ruta))\n",
    "        \n",
    "        i += 1  # Aumentamos el contador de iteraciones\n",
    "\n",
    "    # Si no encontramos un camino, indicamos que no se encontró el nodo objetivo\n",
    "    print(\"No se encontró un camino al nodo objetivo.\")\n",
    "    return None\n",
    "\n",
    "\n",
    "# Definimos el grafo como un diccionario de listas de adyacencia\n",
    "grafo = {\n",
    "    'A': ['B', 'F'],\n",
    "    'B': ['C', 'D'],\n",
    "    'C': [],\n",
    "    'D': [],\n",
    "    'E': [],\n",
    "    'F': ['D']\n",
    "}\n",
    "\n",
    "# Nodo de inicio y nodo objetivo\n",
    "nodo_inicio = 'A'\n",
    "nodo_objetivo = 'E'\n",
    "\n",
    "# Ejecutamos la búsqueda en amplitud\n",
    "camino = busqueda_amplitud(grafo, nodo_inicio, nodo_objetivo)\n"
   ]
  },
  {
   "cell_type": "code",
   "execution_count": null,
   "id": "9f747e31",
   "metadata": {},
   "outputs": [],
   "source": []
  },
  {
   "cell_type": "code",
   "execution_count": 7,
   "id": "7a637882",
   "metadata": {},
   "outputs": [
    {
     "name": "stdout",
     "output_type": "stream",
     "text": [
      "\n",
      "Iteración: 1\n",
      "Nodo actual: A\n",
      "Nodos visitados: {'A'}\n",
      "Nueva ruta: ['A', 'B']\n",
      "\n",
      "Iteración: 2\n",
      "Nodo actual: B\n",
      "Nodos visitados: {'A', 'B'}\n",
      "Nueva ruta: ['A', 'B', 'C']\n",
      "\n",
      "Iteración: 3\n",
      "Nodo actual: C\n",
      "Nodos visitados: {'C', 'A', 'B'}\n",
      "Regresando de C\n",
      "Nueva ruta: ['A', 'B', 'D']\n",
      "\n",
      "Iteración: 3\n",
      "Nodo actual: D\n",
      "Nodos visitados: {'C', 'A', 'B', 'D'}\n",
      "Regresando de D\n",
      "Regresando de B\n",
      "Nueva ruta: ['A', 'F']\n",
      "\n",
      "Iteración: 2\n",
      "Nodo actual: F\n",
      "Nodos visitados: {'C', 'F', 'B', 'D', 'A'}\n",
      "Regresando de F\n",
      "Regresando de A\n"
     ]
    }
   ],
   "source": [
    "# Definimos el algoritmo de búsqueda en profundidad\n",
    "def busqueda_profundidad(grafo, inicio, objetivo, camino=None, visitados=None, i=1):\n",
    "    if camino is None:\n",
    "        camino = [inicio]\n",
    "    if visitados is None:\n",
    "        visitados = set()\n",
    "\n",
    "    nodo_actual = camino[-1]\n",
    "    print(\"\\nIteración:\", i)\n",
    "    print(\"Nodo actual:\", nodo_actual)\n",
    "\n",
    "    # Si encontramos el nodo objetivo, retornamos el camino\n",
    "    if nodo_actual == objetivo:\n",
    "        print(\"Camino encontrado:\", \" -> \".join(camino))\n",
    "        return camino\n",
    "\n",
    "    # Si el nodo actual no ha sido visitado, lo añadimos a visitados\n",
    "    if nodo_actual not in visitados:\n",
    "        visitados.add(nodo_actual)\n",
    "        print(\"Nodos visitados:\", visitados)\n",
    "\n",
    "        # Recorremos los vecinos del nodo actual\n",
    "        for vecino in grafo[nodo_actual]:\n",
    "            if vecino not in visitados:\n",
    "                # Creamos un nuevo camino con el vecino actual\n",
    "                nueva_ruta = camino + [vecino]\n",
    "                print(\"Nueva ruta:\", nueva_ruta)\n",
    "\n",
    "                # Realizamos la llamada recursiva a DFS con el vecino\n",
    "                resultado = busqueda_profundidad(grafo, vecino, objetivo, nueva_ruta, visitados, i+1)\n",
    "                if resultado:\n",
    "                    return resultado  # Si encontramos el camino, retornamos\n",
    "\n",
    "    # Si no encontramos el camino, retornamos None\n",
    "    print(f\"Regresando de {nodo_actual}\")\n",
    "    return None\n",
    "\n",
    "\n",
    "# Definimos el grafo como un diccionario de listas de adyacencia\n",
    "grafo = {\n",
    "    'A': ['B', 'F'],\n",
    "    'B': ['C', 'D'],\n",
    "    'C': [],\n",
    "    'D': [],\n",
    "    'E': [],\n",
    "    'F': ['D']\n",
    "}\n",
    "\n",
    "# Nodo de inicio y nodo objetivo\n",
    "nodo_inicio = 'A'\n",
    "nodo_objetivo = 'E'\n",
    "\n",
    "# Ejecutamos la búsqueda en profundidad\n",
    "camino_dfs = busqueda_profundidad(grafo, nodo_inicio, nodo_objetivo)\n"
   ]
  },
  {
   "cell_type": "code",
   "execution_count": 8,
   "id": "e27b5202",
   "metadata": {},
   "outputs": [
    {
     "name": "stdout",
     "output_type": "stream",
     "text": [
      "\n",
      "Iteración: 1\n",
      "Nodo actual: A con costo actual: 0\n",
      "Nodos visitados: {'A'}\n",
      "Nueva ruta: ['A', 'B'] con costo: 3\n",
      "Nueva ruta: ['A', 'F'] con costo: 5\n",
      "\n",
      "Iteración: 2\n",
      "Nodo actual: B con costo actual: 3\n",
      "Nodos visitados: {'A', 'B'}\n",
      "Nueva ruta: ['A', 'B', 'C'] con costo: 8\n",
      "Nueva ruta: ['A', 'B', 'D'] con costo: 12\n",
      "\n",
      "Iteración: 3\n",
      "Nodo actual: F con costo actual: 5\n",
      "Nodos visitados: {'A', 'F', 'B'}\n",
      "Nueva ruta: ['A', 'F', 'D'] con costo: 11\n",
      "\n",
      "Iteración: 4\n",
      "Nodo actual: C con costo actual: 8\n",
      "Nodos visitados: {'C', 'A', 'F', 'B'}\n",
      "Nueva ruta: ['A', 'B', 'C', 'E'] con costo: 10\n",
      "\n",
      "Iteración: 5\n",
      "Nodo actual: E con costo actual: 10\n",
      "Camino encontrado: A -> B -> C -> E\n",
      "Costo total: 10\n"
     ]
    }
   ],
   "source": [
    "import heapq  # Para manejar la cola de prioridad\n",
    "\n",
    "\n",
    "def busqueda_costo_uniforme(grafo, inicio, objetivo):\n",
    "   \n",
    "    cola_prioridad = [(0, inicio, [inicio])]\n",
    "    visitados = set()\n",
    "\n",
    "    i = 1  \n",
    "    while cola_prioridad:\n",
    "\n",
    "        costo_actual, nodo_actual, camino = heapq.heappop(cola_prioridad)\n",
    "        print(\"\\nIteración:\", i)\n",
    "        print(\"Nodo actual:\", nodo_actual, \"con costo actual:\", costo_actual)\n",
    "\n",
    "        \n",
    "        if nodo_actual == objetivo:\n",
    "            print(\"Camino encontrado:\", \" -> \".join(camino))\n",
    "            print(\"Costo total:\", costo_actual)\n",
    "            return camino, costo_actual\n",
    "\n",
    "        # Si el nodo no ha sido visitado, lo añadimos a visitados\n",
    "        if nodo_actual not in visitados:\n",
    "            visitados.add(nodo_actual)\n",
    "            print(\"Nodos visitados:\", visitados)\n",
    "\n",
    "            # Recorremos los vecinos del nodo actual\n",
    "            for vecino, costo in grafo[nodo_actual]:\n",
    "                if vecino not in visitados:\n",
    "                    # Calculamos el costo total acumulado hasta el vecino\n",
    "                    nuevo_costo = costo_actual + costo\n",
    "                    nueva_ruta = camino + [vecino]\n",
    "                    print(\"Nueva ruta:\", nueva_ruta, \"con costo:\", nuevo_costo)\n",
    "                    # Añadimos el vecino a la cola de prioridad con su costo\n",
    "                    heapq.heappush(cola_prioridad, (nuevo_costo, vecino, nueva_ruta))\n",
    "\n",
    "        i += 1\n",
    "\n",
    "    print(\"No se encontró un camino al nodo objetivo.\")\n",
    "    return None\n",
    "\n",
    "\n",
    "grafo = {\n",
    "    'A': [('B', 3), ('F', 5)],\n",
    "    'B': [('C', 5), ('D', 9)],\n",
    "    'C': [('E', 2)],  \n",
    "    'D': [('E', 7)],\n",
    "    'E': [],\n",
    "    'F': [('D', 6)]\n",
    "}\n",
    "\n",
    "\n",
    "nodo_inicio = 'A'\n",
    "nodo_objetivo = 'E'\n",
    "\n",
    "\n",
    "camino_ucs, costo_total = busqueda_costo_uniforme(grafo, nodo_inicio, nodo_objetivo)\n"
   ]
  }
 ],
 "metadata": {
  "kernelspec": {
   "display_name": "Python 3 (ipykernel)",
   "language": "python",
   "name": "python3"
  },
  "language_info": {
   "codemirror_mode": {
    "name": "ipython",
    "version": 3
   },
   "file_extension": ".py",
   "mimetype": "text/x-python",
   "name": "python",
   "nbconvert_exporter": "python",
   "pygments_lexer": "ipython3",
   "version": "3.9.18"
  }
 },
 "nbformat": 4,
 "nbformat_minor": 5
}

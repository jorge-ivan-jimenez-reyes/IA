{
 "cells": [
  {
   "cell_type": "code",
   "execution_count": null,
   "id": "initial_id",
   "metadata": {
    "collapsed": true
   },
   "outputs": [],
   "source": [
    ""
   ]
  },
  {
   "metadata": {
    "ExecuteTime": {
     "end_time": "2024-10-15T05:27:41.793619Z",
     "start_time": "2024-10-15T05:27:41.749063Z"
    }
   },
   "cell_type": "code",
   "source": [
    "import numpy as np\n",
    "\n",
    "# Definir el estado inicial para los postes\n",
    "def initial_state(num_discs):\n",
    "    A = list(range(num_discs, 0, -1))\n",
    "    B = []\n",
    "    C = []\n",
    "    return A, B, C\n",
    "\n",
    "# Función heurística que calcula cuántos discos están en el poste \"C\" en el orden correcto\n",
    "def heuristic(state):\n",
    "    _, _, C = state\n",
    "    count = 0\n",
    "    for i in range(1, len(C) + 1):\n",
    "        if C[-i] == i:\n",
    "            count += 1\n",
    "        else:\n",
    "            break\n",
    "    return count\n",
    "\n",
    "# Genera vecinos del estado actual al mover un disco entre los postes\n",
    "def get_neighbors(state):\n",
    "    A, B, C = state\n",
    "    neighbors = []\n",
    "    \n",
    "    # Lista de movimientos posibles entre postes con sus nombres\n",
    "    possible_moves = [(A, B, \"A\", \"B\"), (A, C, \"A\", \"C\"), \n",
    "                      (B, A, \"B\", \"A\"), (B, C, \"B\", \"C\"), \n",
    "                      (C, A, \"C\", \"A\"), (C, B, \"C\", \"B\")]\n",
    "    \n",
    "    # Genera los estados vecinos aplicando cada movimiento posible\n",
    "    for source, target, source_name, target_name in possible_moves:\n",
    "        if source and (not target or source[-1] < target[-1]):  # Regla de discos\n",
    "            # Copiar el estado actual\n",
    "            new_A, new_B, new_C = A[:], B[:], C[:]\n",
    "            new_state = (new_A, new_B, new_C)\n",
    "            \n",
    "            # Ejecutar el movimiento en la copia\n",
    "            disk = source.pop()\n",
    "            target.append(disk)\n",
    "            neighbors.append((new_A[:], new_B[:], new_C[:], disk, source_name, target_name))\n",
    "            \n",
    "            # Revertir el movimiento en el estado original\n",
    "            target.pop()\n",
    "            source.append(disk)\n",
    "    \n",
    "    return neighbors\n",
    "\n",
    "# Implementa el algoritmo Hill Climbing para mover todos los discos a \"C\"\n",
    "def hill_climbing_hanoi(num_discs):\n",
    "    # Estado inicial\n",
    "    current_state = initial_state(num_discs)\n",
    "    current_heuristic = heuristic(current_state)\n",
    "    steps = [current_state]\n",
    "    visited_states = set()\n",
    "    visited_states.add(tuple(tuple(peg) for peg in current_state))  # Guardar el estado como una tupla inmutable\n",
    "    \n",
    "    # Continuar hasta que todos los discos estén en el poste \"C\"\n",
    "    while current_heuristic < num_discs:\n",
    "        # Obtener todos los vecinos del estado actual\n",
    "        neighbors = get_neighbors(current_state)\n",
    "        \n",
    "        # Seleccionar el vecino con el mayor valor de la heurística que no haya sido visitado\n",
    "        best_neighbor = None\n",
    "        best_neighbor_heuristic = -1\n",
    "        \n",
    "        for neighbor in neighbors:\n",
    "            state_only = neighbor[:3]\n",
    "            if tuple(tuple(peg) for peg in state_only) not in visited_states:\n",
    "                heuristic_value = heuristic(state_only)\n",
    "                if heuristic_value > best_neighbor_heuristic:\n",
    "                    best_neighbor = neighbor\n",
    "                    best_neighbor_heuristic = heuristic_value\n",
    "        \n",
    "        # Si no se encontró un vecino mejor no visitado, romper el ciclo para evitar bucles\n",
    "        if best_neighbor is None or best_neighbor_heuristic <= current_heuristic:\n",
    "            print(\"No se puede mejorar más el estado actual. Hill Climbing se detiene.\")\n",
    "            break\n",
    "        \n",
    "        # Imprimir el movimiento realizado\n",
    "        disk, origen, destino = best_neighbor[3], best_neighbor[4], best_neighbor[5]\n",
    "        print(f\"Mueve el disco {disk} de {origen} a {destino}\")\n",
    "        \n",
    "        # Actualizar el estado actual y la heurística\n",
    "        current_state = best_neighbor[:3]\n",
    "        current_heuristic = best_neighbor_heuristic\n",
    "        steps.append(current_state)\n",
    "        \n",
    "        # Añadir el nuevo estado a los estados visitados\n",
    "        visited_states.add(tuple(tuple(peg) for peg in current_state))\n",
    "    \n",
    "    return steps\n",
    "\n",
    "# Número de discos\n",
    "num_discs = 4\n",
    "\n",
    "# Ejecutar el algoritmo\n",
    "hill_climbing_hanoi(num_discs)\n"
   ],
   "id": "412efeb08d75a0b6",
   "outputs": [
    {
     "name": "stdout",
     "output_type": "stream",
     "text": [
      "No se puede mejorar más el estado actual. Hill Climbing se detiene.\n"
     ]
    },
    {
     "data": {
      "text/plain": [
       "[([4, 3, 2, 1], [], [])]"
      ]
     },
     "execution_count": 8,
     "metadata": {},
     "output_type": "execute_result"
    }
   ],
   "execution_count": 8
  }
 ],
 "metadata": {
  "kernelspec": {
   "display_name": "Python 3",
   "language": "python",
   "name": "python3"
  },
  "language_info": {
   "codemirror_mode": {
    "name": "ipython",
    "version": 2
   },
   "file_extension": ".py",
   "mimetype": "text/x-python",
   "name": "python",
   "nbconvert_exporter": "python",
   "pygments_lexer": "ipython2",
   "version": "2.7.6"
  }
 },
 "nbformat": 4,
 "nbformat_minor": 5
}

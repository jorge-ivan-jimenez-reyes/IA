{
 "cells": [
  {
   "metadata": {},
   "cell_type": "raw",
   "source": [
    "\n",
    "def TorreDeHanoi(n , origen, destino, auxiliar):\n",
    "    if n == 1;\n",
    "    return\n",
    "   TorreDeHanoi(n-1,  origen, auxiliar, destino)\n",
    "   print (f`Mueve  el disco (n) de (origen) a  (destino)`)\n",
    "   TorreDeHanoi(n-1, auxiliar, destino, origen)\n",
    "\n",
    "\n",
    "n=3\n",
    "TorreDeHanoi(n,`A`,`B`,`C`)"
   ],
   "id": "5472993cf2255df9"
  },
  {
   "metadata": {
    "ExecuteTime": {
     "end_time": "2024-10-08T02:28:44.918206Z",
     "start_time": "2024-10-08T02:28:44.907829Z"
    }
   },
   "cell_type": "code",
   "source": [
    "\n",
    "def torreDeHanoi(n, origen, destino, auxiliar):\n",
    "    if n == 1:\n",
    "        print(f'Mueve el disco  1 de (origen) a (destino)')\n",
    "        return\n",
    "    torreDeHanoi(n - 1, origen, auxiliar, destino)\n",
    "    print (f'Mueve  el disco (n) de (origen) a  (destino)')\n",
    "    torreDeHanoi(n - 1, auxiliar, destino, origen)\n",
    "\n",
    "\n",
    "n=3\n",
    "torreDeHanoi(n, 'A', 'B', 'C')"
   ],
   "id": "f01b7a55713d3745",
   "outputs": [
    {
     "name": "stdout",
     "output_type": "stream",
     "text": [
      "Mueve el disco  1 de (origen) a (destino)\n",
      "Mueve  el disco (n) de (origen) a  (destino)\n",
      "Mueve el disco  1 de (origen) a (destino)\n",
      "Mueve  el disco (n) de (origen) a  (destino)\n",
      "Mueve el disco  1 de (origen) a (destino)\n",
      "Mueve  el disco (n) de (origen) a  (destino)\n",
      "Mueve el disco  1 de (origen) a (destino)\n"
     ]
    }
   ],
   "execution_count": 4
  }
 ],
 "metadata": {
  "kernelspec": {
   "display_name": "Python 3",
   "language": "python",
   "name": "python3"
  },
  "language_info": {
   "codemirror_mode": {
    "name": "ipython",
    "version": 2
   },
   "file_extension": ".py",
   "mimetype": "text/x-python",
   "name": "python",
   "nbconvert_exporter": "python",
   "pygments_lexer": "ipython2",
   "version": "2.7.6"
  }
 },
 "nbformat": 4,
 "nbformat_minor": 5
}
